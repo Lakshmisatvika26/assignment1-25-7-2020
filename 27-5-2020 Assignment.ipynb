{
 "cells": [
  {
   "cell_type": "markdown",
   "metadata": {},
   "source": [
    "# Generating a pattern:\n"
   ]
  },
  {
   "cell_type": "code",
   "execution_count": 10,
   "metadata": {},
   "outputs": [
    {
     "name": "stdout",
     "output_type": "stream",
     "text": [
      "enter the number of rows5\n",
      "* \n",
      "* * \n",
      "* * * \n",
      "* * * * \n",
      "* * * * * \n"
     ]
    }
   ],
   "source": [
    "rows = int(input(\"enter the number of rows\"))\n",
    "for i in range(0, rows):\n",
    "    for j in range(0, i + 1):\n",
    "        print(\"*\" , end=' ')\n",
    "\n",
    "    print(\"\\r\")"
   ]
  },
  {
   "cell_type": "code",
   "execution_count": 11,
   "metadata": {},
   "outputs": [
    {
     "name": "stdout",
     "output_type": "stream",
     "text": [
      "enter the value of k5\n",
      "5 * 1 = 5\n",
      "5 * 2 = 10\n",
      "5 * 3 = 15\n",
      "5 * 4 = 20\n",
      "5 * 5 = 25\n",
      "5 * 6 = 30\n",
      "5 * 7 = 35\n",
      "5 * 8 = 40\n",
      "5 * 9 = 45\n",
      "5 * 10 = 50\n",
      "enter the value of k7\n",
      "7 * 1 = 7\n",
      "7 * 2 = 14\n",
      "7 * 3 = 21\n",
      "7 * 4 = 28\n",
      "7 * 5 = 35\n",
      "7 * 6 = 42\n",
      "7 * 7 = 49\n",
      "7 * 8 = 56\n",
      "7 * 9 = 63\n",
      "7 * 10 = 70\n"
     ]
    }
   ],
   "source": [
    "#answer2\n",
    "\n",
    "\n",
    "\n",
    "k=int(input(\"enter the value of k\"))\n",
    "for i in range (1,11):\n",
    "     print(k,\"*\",i,\"=\",k*i)\n",
    "k=int(input(\"enter the value of k\"))\n",
    "for i in range (1,11):\n",
    "    print(k,\"*\",i,\"=\",k*i)\n",
    "            "
   ]
  },
  {
   "cell_type": "code",
   "execution_count": 29,
   "metadata": {},
   "outputs": [
    {
     "name": "stdout",
     "output_type": "stream",
     "text": [
      "enter a1\n",
      "enter b2\n",
      "enter c3\n",
      "(-1-1.4142135623730951j) (-1+1.4142135623730951j)\n"
     ]
    }
   ],
   "source": [
    "#answer3\n",
    "\n",
    "\n",
    "import cmath\n",
    "\n",
    "a=int(input(\"enter a\"))\n",
    "b=int(input(\"enter b\"))\n",
    "c=int(input(\"enter c\"))\n",
    "\n",
    "d=b**2-4*a*c\n",
    "\n",
    "p= (-b-cmath.sqrt(d))/(2*a)\n",
    "q= (-b+cmath.sqrt(d))/(2*a)\n",
    "print(p,q)\n"
   ]
  },
  {
   "cell_type": "code",
   "execution_count": 27,
   "metadata": {},
   "outputs": [
    {
     "name": "stdout",
     "output_type": "stream",
     "text": [
      "enter n5\n",
      "the decimal value of 5 : 0b101 in binary\n"
     ]
    }
   ],
   "source": [
    "#answe4\n",
    "\n",
    "n=int(input('enter n'))\n",
    "print(\"the decimal value of\",n,\":\",bin(n),\"in binary\")"
   ]
  },
  {
   "cell_type": "code",
   "execution_count": 28,
   "metadata": {},
   "outputs": [
    {
     "name": "stdout",
     "output_type": "stream",
     "text": [
      "enter n5\n",
      "1 1 2 3 5 "
     ]
    }
   ],
   "source": [
    "#answer5\n",
    "\n",
    "#answer5\n",
    "\n",
    "#answer5\n",
    "\n",
    "n=int(input(\"enter n\"))\n",
    "f1=0\n",
    "f2=1\n",
    "for x in range (0,n):\n",
    "        print(f2,end=' ')\n",
    "        next=f1+f2\n",
    "        f1=f2\n",
    "        f2=next\n",
    "\n"
   ]
  },
  {
   "cell_type": "code",
   "execution_count": null,
   "metadata": {},
   "outputs": [],
   "source": []
  }
 ],
 "metadata": {
  "kernelspec": {
   "display_name": "Python 3",
   "language": "python",
   "name": "python3"
  },
  "language_info": {
   "codemirror_mode": {
    "name": "ipython",
    "version": 3
   },
   "file_extension": ".py",
   "mimetype": "text/x-python",
   "name": "python",
   "nbconvert_exporter": "python",
   "pygments_lexer": "ipython3",
   "version": "3.7.4"
  }
 },
 "nbformat": 4,
 "nbformat_minor": 2
}
